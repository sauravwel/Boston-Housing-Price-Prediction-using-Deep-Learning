{
  "metadata": {
    "kernelspec": {
      "name": "python",
      "display_name": "Python (Pyodide)",
      "language": "python"
    },
    "language_info": {
      "codemirror_mode": {
        "name": "python",
        "version": 3
      },
      "file_extension": ".py",
      "mimetype": "text/x-python",
      "name": "python",
      "nbconvert_exporter": "python",
      "pygments_lexer": "ipython3",
      "version": "3.8"
    }
  },
  "nbformat_minor": 4,
  "nbformat": 4,
  "cells": [
    {
      "cell_type": "markdown",
      "source": "# House price prediction (with TensorBoard)\nPredicting house prices in Boston, Massachusetts while logging results for TensorBoard",
      "metadata": {}
    },
    {
      "cell_type": "markdown",
      "source": "#### Load dependencies",
      "metadata": {}
    },
    {
      "cell_type": "code",
      "source": "import numpy as np\nfrom tensorflow.keras.datasets import boston_housing \nfrom tensorflow.keras.models import Sequential\nfrom tensorflow.keras.layers import Dense, Dropout \nfrom tensorflow.keras.layers import BatchNormalization \nfrom tensorflow.keras.callbacks import ModelCheckpoint \nfrom tensorflow.keras.callbacks import TensorBoard # new!  \nimport os ",
      "metadata": {},
      "execution_count": 1,
      "outputs": []
    },
    {
      "cell_type": "markdown",
      "source": "#### Load data",
      "metadata": {}
    },
    {
      "cell_type": "code",
      "source": "(X_train, y_train), (X_valid, y_valid) = boston_housing.load_data()",
      "metadata": {},
      "execution_count": 2,
      "outputs": []
    },
    {
      "cell_type": "code",
      "source": "X_train.shape",
      "metadata": {},
      "execution_count": 3,
      "outputs": [
        {
          "execution_count": 3,
          "output_type": "execute_result",
          "data": {
            "text/plain": [
              "(404, 13)"
            ]
          },
          "metadata": {}
        }
      ]
    },
    {
      "cell_type": "code",
      "source": "X_valid.shape",
      "metadata": {},
      "execution_count": 4,
      "outputs": [
        {
          "execution_count": 4,
          "output_type": "execute_result",
          "data": {
            "text/plain": [
              "(102, 13)"
            ]
          },
          "metadata": {}
        }
      ]
    },
    {
      "cell_type": "code",
      "source": "X_train[0]",
      "metadata": {},
      "execution_count": 5,
      "outputs": [
        {
          "execution_count": 5,
          "output_type": "execute_result",
          "data": {
            "text/plain": [
              "array([  1.23247,   0.     ,   8.14   ,   0.     ,   0.538  ,   6.142  ,\n",
              "        91.7    ,   3.9769 ,   4.     , 307.     ,  21.     , 396.9    ,\n",
              "        18.72   ])"
            ]
          },
          "metadata": {}
        }
      ]
    },
    {
      "cell_type": "code",
      "source": "y_train[0]",
      "metadata": {},
      "execution_count": 6,
      "outputs": [
        {
          "execution_count": 6,
          "output_type": "execute_result",
          "data": {
            "text/plain": [
              "15.2"
            ]
          },
          "metadata": {}
        }
      ]
    },
    {
      "cell_type": "markdown",
      "source": "#### Design neural network architecture",
      "metadata": {}
    },
    {
      "cell_type": "code",
      "source": "model = Sequential()\n\nmodel.add(Dense(32, input_dim=13, activation='relu'))\nmodel.add(BatchNormalization())\n\nmodel.add(Dense(16, activation='relu'))\nmodel.add(BatchNormalization())\nmodel.add(Dropout(0.2))\n\nmodel.add(Dense(1, activation='linear'))",
      "metadata": {},
      "execution_count": 7,
      "outputs": []
    },
    {
      "cell_type": "code",
      "source": "model.summary()",
      "metadata": {},
      "execution_count": 8,
      "outputs": [
        {
          "name": "stdout",
          "output_type": "stream",
          "text": "Model: \"sequential\"\n\n_________________________________________________________________\n\nLayer (type)                 Output Shape              Param #   \n\n=================================================================\n\ndense (Dense)                (None, 32)                448       \n\n_________________________________________________________________\n\nbatch_normalization (BatchNo (None, 32)                128       \n\n_________________________________________________________________\n\ndense_1 (Dense)              (None, 16)                528       \n\n_________________________________________________________________\n\nbatch_normalization_1 (Batch (None, 16)                64        \n\n_________________________________________________________________\n\ndropout (Dropout)            (None, 16)                0         \n\n_________________________________________________________________\n\ndense_2 (Dense)              (None, 1)                 17        \n\n=================================================================\n\nTotal params: 1,185\n\nTrainable params: 1,089\n\nNon-trainable params: 96\n\n_________________________________________________________________\n"
        }
      ]
    },
    {
      "cell_type": "markdown",
      "source": "#### Configure Model",
      "metadata": {}
    },
    {
      "cell_type": "code",
      "source": "model.compile(loss='mean_squared_error', optimizer='adam', )",
      "metadata": {},
      "execution_count": 9,
      "outputs": []
    },
    {
      "cell_type": "code",
      "source": "output_dir = 'model_output/'",
      "metadata": {},
      "execution_count": 10,
      "outputs": []
    },
    {
      "cell_type": "code",
      "source": "run_name = 'regression_baseline'\noutput_path = output_dir + run_name",
      "metadata": {},
      "execution_count": 11,
      "outputs": []
    },
    {
      "cell_type": "code",
      "source": "if not os.path.exists(output_path):\n    os.makedirs(output_path)",
      "metadata": {},
      "execution_count": 12,
      "outputs": []
    },
    {
      "cell_type": "code",
      "source": "modelcheckpoint = ModelCheckpoint(output_path + '/weights.{epoch:02d}.hdf5', # decimal integers\n                                  save_weights_only=True) # otherwise full model is saved",
      "metadata": {},
      "execution_count": 13,
      "outputs": []
    },
    {
      "cell_type": "code",
      "source": "tensorboard = TensorBoard(log_dir='logs/' + run_name)",
      "metadata": {},
      "execution_count": 14,
      "outputs": []
    },
    {
      "cell_type": "markdown",
      "source": "#### Train!",
      "metadata": {}
    },
    {
      "cell_type": "code",
      "source": "model.fit(X_train, y_train, \n          batch_size=8, epochs=32, verbose=1, \n          validation_data=(X_valid, y_valid),\n          callbacks=[modelcheckpoint, tensorboard]) ",
      "metadata": {},
      "execution_count": 15,
      "outputs": [
        {
          "name": "stdout",
          "output_type": "stream",
          "text": "Train on 404 samples, validate on 102 samples\n\nEpoch 1/32\n\n404/404 [==============================] - 1s 2ms/sample - loss: 587.6668 - val_loss: 680.7983\n\nEpoch 2/32\n\n404/404 [==============================] - 0s 323us/sample - loss: 565.8801 - val_loss: 659.5214\n\nEpoch 3/32\n\n404/404 [==============================] - 0s 322us/sample - loss: 548.8434 - val_loss: 631.0423\n\nEpoch 4/32\n\n404/404 [==============================] - 0s 342us/sample - loss: 531.8849 - val_loss: 561.6263\n\nEpoch 5/32\n\n404/404 [==============================] - 0s 317us/sample - loss: 509.8884 - val_loss: 539.1380\n\nEpoch 6/32\n\n404/404 [==============================] - 0s 312us/sample - loss: 486.0127 - val_loss: 499.1526\n\nEpoch 7/32\n\n404/404 [==============================] - 0s 309us/sample - loss: 452.2261 - val_loss: 468.7240\n\nEpoch 8/32\n\n404/404 [==============================] - 0s 295us/sample - loss: 415.7714 - val_loss: 438.4499\n\nEpoch 9/32\n\n404/404 [==============================] - 0s 295us/sample - loss: 380.2730 - val_loss: 418.0454\n\nEpoch 10/32\n\n404/404 [==============================] - 0s 258us/sample - loss: 336.4345 - val_loss: 398.4512\n\nEpoch 11/32\n\n404/404 [==============================] - 0s 215us/sample - loss: 299.1088 - val_loss: 319.1686\n\nEpoch 12/32\n\n404/404 [==============================] - 0s 248us/sample - loss: 258.3119 - val_loss: 264.6858\n\nEpoch 13/32\n\n404/404 [==============================] - 0s 218us/sample - loss: 220.0767 - val_loss: 203.3719\n\nEpoch 14/32\n\n404/404 [==============================] - 0s 206us/sample - loss: 180.3471 - val_loss: 219.1501\n\nEpoch 15/32\n\n404/404 [==============================] - 0s 196us/sample - loss: 145.8800 - val_loss: 103.0927\n\nEpoch 16/32\n\n404/404 [==============================] - 0s 227us/sample - loss: 127.1186 - val_loss: 72.2505\n\nEpoch 17/32\n\n404/404 [==============================] - 0s 263us/sample - loss: 97.9500 - val_loss: 56.8262\n\nEpoch 18/32\n\n404/404 [==============================] - 0s 240us/sample - loss: 88.1242 - val_loss: 47.5330\n\nEpoch 19/32\n\n404/404 [==============================] - 0s 299us/sample - loss: 68.4377 - val_loss: 41.7972\n\nEpoch 20/32\n\n404/404 [==============================] - 0s 344us/sample - loss: 60.5731 - val_loss: 44.2351\n\nEpoch 21/32\n\n404/404 [==============================] - 0s 359us/sample - loss: 60.5693 - val_loss: 36.1036\n\nEpoch 22/32\n\n404/404 [==============================] - 0s 334us/sample - loss: 50.9928 - val_loss: 29.6428\n\nEpoch 23/32\n\n404/404 [==============================] - 0s 295us/sample - loss: 52.3127 - val_loss: 29.8090\n\nEpoch 24/32\n\n404/404 [==============================] - 0s 290us/sample - loss: 49.0510 - val_loss: 25.9772\n\nEpoch 25/32\n\n404/404 [==============================] - 0s 308us/sample - loss: 43.6791 - val_loss: 24.5425\n\nEpoch 26/32\n\n404/404 [==============================] - 0s 280us/sample - loss: 53.2793 - val_loss: 104.4379\n\nEpoch 27/32\n\n404/404 [==============================] - 0s 256us/sample - loss: 49.2610 - val_loss: 158.6787\n\nEpoch 28/32\n\n404/404 [==============================] - 0s 236us/sample - loss: 45.6568 - val_loss: 21.4948\n\nEpoch 29/32\n\n404/404 [==============================] - 0s 284us/sample - loss: 46.4782 - val_loss: 26.2483\n\nEpoch 30/32\n\n404/404 [==============================] - 0s 345us/sample - loss: 37.8259 - val_loss: 73.2823\n\nEpoch 31/32\n\n404/404 [==============================] - 0s 357us/sample - loss: 55.7427 - val_loss: 35.7386\n\nEpoch 32/32\n\n404/404 [==============================] - 0s 351us/sample - loss: 38.9442 - val_loss: 42.0964\n"
        },
        {
          "execution_count": 15,
          "output_type": "execute_result",
          "data": {
            "text/plain": [
              "<tensorflow.python.keras.callbacks.History at 0x7f2ef445a0f0>"
            ]
          },
          "metadata": {}
        }
      ]
    },
    {
      "cell_type": "markdown",
      "source": "#### Performing inference",
      "metadata": {}
    },
    {
      "cell_type": "code",
      "source": "model.load_weights(output_path + '/weights.28.hdf5')",
      "metadata": {},
      "execution_count": 20,
      "outputs": []
    },
    {
      "cell_type": "code",
      "source": "X_valid[42]",
      "metadata": {},
      "execution_count": 21,
      "outputs": [
        {
          "execution_count": 21,
          "output_type": "execute_result",
          "data": {
            "text/plain": [
              "array([  9.32909,   0.     ,  18.1    ,   0.     ,   0.713  ,   6.185  ,\n",
              "        98.7    ,   2.2616 ,  24.     , 666.     ,  20.2    , 396.9    ,\n",
              "        18.13   ])"
            ]
          },
          "metadata": {}
        }
      ]
    },
    {
      "cell_type": "code",
      "source": "y_valid[42]",
      "metadata": {},
      "execution_count": 22,
      "outputs": [
        {
          "execution_count": 22,
          "output_type": "execute_result",
          "data": {
            "text/plain": [
              "14.1"
            ]
          },
          "metadata": {}
        }
      ]
    },
    {
      "cell_type": "code",
      "source": "model.predict(np.reshape(X_valid[42], [1, 13]))",
      "metadata": {},
      "execution_count": 23,
      "outputs": [
        {
          "execution_count": 23,
          "output_type": "execute_result",
          "data": {
            "text/plain": [
              "array([[14.776713]], dtype=float32)"
            ]
          },
          "metadata": {}
        }
      ]
    },
    {
      "cell_type": "code",
      "source": "",
      "metadata": {},
      "execution_count": null,
      "outputs": []
    }
  ]
}